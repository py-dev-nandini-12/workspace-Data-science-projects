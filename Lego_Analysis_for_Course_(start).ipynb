{
  "nbformat": 4,
  "nbformat_minor": 0,
  "metadata": {
    "kernelspec": {
      "display_name": "Python 3",
      "language": "python",
      "name": "python3"
    },
    "language_info": {
      "codemirror_mode": {
        "name": "ipython",
        "version": 3
      },
      "file_extension": ".py",
      "mimetype": "text/x-python",
      "name": "python",
      "nbconvert_exporter": "python",
      "pygments_lexer": "ipython3",
      "version": "3.7.3"
    },
    "colab": {
      "provenance": [],
      "toc_visible": true,
      "include_colab_link": true
    }
  },
  "cells": [
    {
      "cell_type": "markdown",
      "metadata": {
        "id": "view-in-github",
        "colab_type": "text"
      },
      "source": [
        "<a href=\"https://colab.research.google.com/github/py-dev-nandini-12/workspace/blob/main/Lego_Analysis_for_Course_(start).ipynb\" target=\"_parent\"><img src=\"https://colab.research.google.com/assets/colab-badge.svg\" alt=\"Open In Colab\"/></a>"
      ]
    },
    {
      "cell_type": "markdown",
      "metadata": {
        "dc": {
          "key": "1d0b086e6c"
        },
        "run_control": {
          "frozen": true
        },
        "tags": [
          "context"
        ],
        "id": "s9JLDE8NIquP"
      },
      "source": [
        "# Introduction\n",
        "\n",
        "Today we'll dive deep into a dataset all about LEGO. From the dataset we can ask whole bunch of interesting questions about the history of the LEGO company, their product offering, and which LEGO set ultimately rules them all:\n",
        "\n",
        "<ul type=\"square\">\n",
        "<li>What is the most enormous LEGO set ever created and how many parts did it have?</li>\n",
        "\n",
        "<li>How did the LEGO company start out? In which year were the first LEGO sets released and how many sets did the company sell when it first launched?</li>\n",
        "\n",
        "<li>Which LEGO theme has the most sets? Is it one of LEGO's own themes like Ninjago or a theme they licensed liked Harry Potter or Marvel Superheroes?</li>\n",
        "\n",
        "<li>When did the LEGO company really expand its product offering? Can we spot a change in the company strategy based on how many themes and sets did it released year-on-year?</li>\n",
        "\n",
        "<li>Did LEGO sets grow in size and complexity over time? Do older LEGO\n",
        "sets tend to have more or fewer parts than newer sets?</li>\n",
        "</ul>\n",
        "\n",
        "**Data Source**\n",
        "\n",
        "[Rebrickable](https://rebrickable.com/downloads/) has compiled data on all the LEGO pieces in existence. I recommend you use download the .csv files provided in this lesson."
      ]
    },
    {
      "cell_type": "markdown",
      "metadata": {
        "id": "V0u2lGJuIquQ"
      },
      "source": [
        "# Import Statements"
      ]
    },
    {
      "cell_type": "markdown",
      "source": [
        "<img src= \"https://i.imgur.com/49FNOHj.jpg\">"
      ],
      "metadata": {
        "id": "ZTaawo3tOZZ7"
      }
    },
    {
      "cell_type": "code",
      "metadata": {
        "id": "z5Wk7rs-IquQ"
      },
      "source": [
        "import pandas as pd\n",
        "import matplotlib.pyplot as plt\n"
      ],
      "execution_count": null,
      "outputs": []
    },
    {
      "cell_type": "markdown",
      "metadata": {
        "id": "R5NQpJ_KIquT"
      },
      "source": [
        "# Data Exploration"
      ]
    },
    {
      "cell_type": "markdown",
      "metadata": {
        "dc": {
          "key": "044b2cef41"
        },
        "run_control": {
          "frozen": true
        },
        "tags": [
          "context"
        ],
        "id": "ffaG-UFYIquT"
      },
      "source": [
        "**Challenge**: How many different colours does the LEGO company produce? Read the colors.csv file in the data folder and find the total number of unique colours. Try using the [.nunique() method](https://pandas.pydata.org/pandas-docs/stable/reference/api/pandas.DataFrame.nunique.html?highlight=nunique#pandas.DataFrame.nunique) to accomplish this."
      ]
    },
    {
      "cell_type": "code",
      "metadata": {
        "id": "yd4G9pK7IquU",
        "colab": {
          "base_uri": "https://localhost:8080/"
        },
        "outputId": "55415cad-c23e-4091-d41a-df868e4d7a95"
      },
      "source": [
        "df = pd.read_csv(\"sample_data/data/colors.csv\")\n",
        "df[\"name\"].nunique()"
      ],
      "execution_count": null,
      "outputs": [
        {
          "output_type": "execute_result",
          "data": {
            "text/plain": [
              "135"
            ]
          },
          "metadata": {},
          "execution_count": 12
        }
      ]
    },
    {
      "cell_type": "code",
      "metadata": {
        "dc": {
          "key": "044b2cef41"
        },
        "tags": [
          "sample_code"
        ],
        "id": "QmbAXax7IquW",
        "colab": {
          "base_uri": "https://localhost:8080/"
        },
        "outputId": "d1af9ba3-18e9-4211-9667-73d18077c1c5"
      },
      "source": [
        "print(df.head())\n"
      ],
      "execution_count": null,
      "outputs": [
        {
          "output_type": "stream",
          "name": "stdout",
          "text": [
            "   id            name     rgb is_trans\n",
            "0  -1         Unknown  0033B2        f\n",
            "1   0           Black  05131D        f\n",
            "2   1            Blue  0055BF        f\n",
            "3   2           Green  237841        f\n",
            "4   3  Dark Turquoise  008F9B        f\n"
          ]
        }
      ]
    },
    {
      "cell_type": "code",
      "metadata": {
        "dc": {
          "key": "15c1e2ce38"
        },
        "tags": [
          "sample_code"
        ],
        "id": "SMc2sKiIIquY",
        "colab": {
          "base_uri": "https://localhost:8080/"
        },
        "outputId": "86f3402c-c5ee-4caa-d6b5-21591d81ac9d"
      },
      "source": [
        "print(df.tail())"
      ],
      "execution_count": null,
      "outputs": [
        {
          "output_type": "stream",
          "name": "stdout",
          "text": [
            "       id                          name     rgb is_trans\n",
            "130  1004  Trans Flame Yellowish Orange  FCB76D        t\n",
            "131  1005             Trans Fire Yellow  FBE890        t\n",
            "132  1006        Trans Light Royal Blue  B4D4F7        t\n",
            "133  1007                 Reddish Lilac  8E5597        f\n",
            "134  9999                    [No Color]  05131D        f\n"
          ]
        }
      ]
    },
    {
      "cell_type": "markdown",
      "metadata": {
        "dc": {
          "key": "a5723ae5c2"
        },
        "run_control": {
          "frozen": true
        },
        "tags": [
          "context"
        ],
        "id": "PItRbqgcIqua"
      },
      "source": [
        "**Challenge**: Find the number of transparent colours where <code>is_trans == 't'</code> versus the number of opaque colours where <code>is_trans == 'f'</code>. See if you can accomplish this in two different ways."
      ]
    },
    {
      "cell_type": "code",
      "metadata": {
        "id": "1UZrfq82Iqub",
        "colab": {
          "base_uri": "https://localhost:8080/",
          "height": 143
        },
        "outputId": "e03ccb5a-13de-42d7-cce9-b6607b3c4b47"
      },
      "source": [
        "df.groupby('is_trans').count()"
      ],
      "execution_count": null,
      "outputs": [
        {
          "output_type": "execute_result",
          "data": {
            "text/plain": [
              "           id  name  rgb\n",
              "is_trans                \n",
              "f         107   107  107\n",
              "t          28    28   28"
            ],
            "text/html": [
              "\n",
              "  <div id=\"df-0230298c-882c-4ef8-b11e-fbf63fed4857\" class=\"colab-df-container\">\n",
              "    <div>\n",
              "<style scoped>\n",
              "    .dataframe tbody tr th:only-of-type {\n",
              "        vertical-align: middle;\n",
              "    }\n",
              "\n",
              "    .dataframe tbody tr th {\n",
              "        vertical-align: top;\n",
              "    }\n",
              "\n",
              "    .dataframe thead th {\n",
              "        text-align: right;\n",
              "    }\n",
              "</style>\n",
              "<table border=\"1\" class=\"dataframe\">\n",
              "  <thead>\n",
              "    <tr style=\"text-align: right;\">\n",
              "      <th></th>\n",
              "      <th>id</th>\n",
              "      <th>name</th>\n",
              "      <th>rgb</th>\n",
              "    </tr>\n",
              "    <tr>\n",
              "      <th>is_trans</th>\n",
              "      <th></th>\n",
              "      <th></th>\n",
              "      <th></th>\n",
              "    </tr>\n",
              "  </thead>\n",
              "  <tbody>\n",
              "    <tr>\n",
              "      <th>f</th>\n",
              "      <td>107</td>\n",
              "      <td>107</td>\n",
              "      <td>107</td>\n",
              "    </tr>\n",
              "    <tr>\n",
              "      <th>t</th>\n",
              "      <td>28</td>\n",
              "      <td>28</td>\n",
              "      <td>28</td>\n",
              "    </tr>\n",
              "  </tbody>\n",
              "</table>\n",
              "</div>\n",
              "    <div class=\"colab-df-buttons\">\n",
              "\n",
              "  <div class=\"colab-df-container\">\n",
              "    <button class=\"colab-df-convert\" onclick=\"convertToInteractive('df-0230298c-882c-4ef8-b11e-fbf63fed4857')\"\n",
              "            title=\"Convert this dataframe to an interactive table.\"\n",
              "            style=\"display:none;\">\n",
              "\n",
              "  <svg xmlns=\"http://www.w3.org/2000/svg\" height=\"24px\" viewBox=\"0 -960 960 960\">\n",
              "    <path d=\"M120-120v-720h720v720H120Zm60-500h600v-160H180v160Zm220 220h160v-160H400v160Zm0 220h160v-160H400v160ZM180-400h160v-160H180v160Zm440 0h160v-160H620v160ZM180-180h160v-160H180v160Zm440 0h160v-160H620v160Z\"/>\n",
              "  </svg>\n",
              "    </button>\n",
              "\n",
              "  <style>\n",
              "    .colab-df-container {\n",
              "      display:flex;\n",
              "      gap: 12px;\n",
              "    }\n",
              "\n",
              "    .colab-df-convert {\n",
              "      background-color: #E8F0FE;\n",
              "      border: none;\n",
              "      border-radius: 50%;\n",
              "      cursor: pointer;\n",
              "      display: none;\n",
              "      fill: #1967D2;\n",
              "      height: 32px;\n",
              "      padding: 0 0 0 0;\n",
              "      width: 32px;\n",
              "    }\n",
              "\n",
              "    .colab-df-convert:hover {\n",
              "      background-color: #E2EBFA;\n",
              "      box-shadow: 0px 1px 2px rgba(60, 64, 67, 0.3), 0px 1px 3px 1px rgba(60, 64, 67, 0.15);\n",
              "      fill: #174EA6;\n",
              "    }\n",
              "\n",
              "    .colab-df-buttons div {\n",
              "      margin-bottom: 4px;\n",
              "    }\n",
              "\n",
              "    [theme=dark] .colab-df-convert {\n",
              "      background-color: #3B4455;\n",
              "      fill: #D2E3FC;\n",
              "    }\n",
              "\n",
              "    [theme=dark] .colab-df-convert:hover {\n",
              "      background-color: #434B5C;\n",
              "      box-shadow: 0px 1px 3px 1px rgba(0, 0, 0, 0.15);\n",
              "      filter: drop-shadow(0px 1px 2px rgba(0, 0, 0, 0.3));\n",
              "      fill: #FFFFFF;\n",
              "    }\n",
              "  </style>\n",
              "\n",
              "    <script>\n",
              "      const buttonEl =\n",
              "        document.querySelector('#df-0230298c-882c-4ef8-b11e-fbf63fed4857 button.colab-df-convert');\n",
              "      buttonEl.style.display =\n",
              "        google.colab.kernel.accessAllowed ? 'block' : 'none';\n",
              "\n",
              "      async function convertToInteractive(key) {\n",
              "        const element = document.querySelector('#df-0230298c-882c-4ef8-b11e-fbf63fed4857');\n",
              "        const dataTable =\n",
              "          await google.colab.kernel.invokeFunction('convertToInteractive',\n",
              "                                                    [key], {});\n",
              "        if (!dataTable) return;\n",
              "\n",
              "        const docLinkHtml = 'Like what you see? Visit the ' +\n",
              "          '<a target=\"_blank\" href=https://colab.research.google.com/notebooks/data_table.ipynb>data table notebook</a>'\n",
              "          + ' to learn more about interactive tables.';\n",
              "        element.innerHTML = '';\n",
              "        dataTable['output_type'] = 'display_data';\n",
              "        await google.colab.output.renderOutput(dataTable, element);\n",
              "        const docLink = document.createElement('div');\n",
              "        docLink.innerHTML = docLinkHtml;\n",
              "        element.appendChild(docLink);\n",
              "      }\n",
              "    </script>\n",
              "  </div>\n",
              "\n",
              "\n",
              "<div id=\"df-aefdf19a-b294-4325-9054-056ca7d2cf0e\">\n",
              "  <button class=\"colab-df-quickchart\" onclick=\"quickchart('df-aefdf19a-b294-4325-9054-056ca7d2cf0e')\"\n",
              "            title=\"Suggest charts.\"\n",
              "            style=\"display:none;\">\n",
              "\n",
              "<svg xmlns=\"http://www.w3.org/2000/svg\" height=\"24px\"viewBox=\"0 0 24 24\"\n",
              "     width=\"24px\">\n",
              "    <g>\n",
              "        <path d=\"M19 3H5c-1.1 0-2 .9-2 2v14c0 1.1.9 2 2 2h14c1.1 0 2-.9 2-2V5c0-1.1-.9-2-2-2zM9 17H7v-7h2v7zm4 0h-2V7h2v10zm4 0h-2v-4h2v4z\"/>\n",
              "    </g>\n",
              "</svg>\n",
              "  </button>\n",
              "\n",
              "<style>\n",
              "  .colab-df-quickchart {\n",
              "    background-color: #E8F0FE;\n",
              "    border: none;\n",
              "    border-radius: 50%;\n",
              "    cursor: pointer;\n",
              "    display: none;\n",
              "    fill: #1967D2;\n",
              "    height: 32px;\n",
              "    padding: 0 0 0 0;\n",
              "    width: 32px;\n",
              "  }\n",
              "\n",
              "  .colab-df-quickchart:hover {\n",
              "    background-color: #E2EBFA;\n",
              "    box-shadow: 0px 1px 2px rgba(60, 64, 67, 0.3), 0px 1px 3px 1px rgba(60, 64, 67, 0.15);\n",
              "    fill: #174EA6;\n",
              "  }\n",
              "\n",
              "  [theme=dark] .colab-df-quickchart {\n",
              "    background-color: #3B4455;\n",
              "    fill: #D2E3FC;\n",
              "  }\n",
              "\n",
              "  [theme=dark] .colab-df-quickchart:hover {\n",
              "    background-color: #434B5C;\n",
              "    box-shadow: 0px 1px 3px 1px rgba(0, 0, 0, 0.15);\n",
              "    filter: drop-shadow(0px 1px 2px rgba(0, 0, 0, 0.3));\n",
              "    fill: #FFFFFF;\n",
              "  }\n",
              "</style>\n",
              "\n",
              "  <script>\n",
              "    async function quickchart(key) {\n",
              "      const charts = await google.colab.kernel.invokeFunction(\n",
              "          'suggestCharts', [key], {});\n",
              "    }\n",
              "    (() => {\n",
              "      let quickchartButtonEl =\n",
              "        document.querySelector('#df-aefdf19a-b294-4325-9054-056ca7d2cf0e button');\n",
              "      quickchartButtonEl.style.display =\n",
              "        google.colab.kernel.accessAllowed ? 'block' : 'none';\n",
              "    })();\n",
              "  </script>\n",
              "</div>\n",
              "    </div>\n",
              "  </div>\n"
            ]
          },
          "metadata": {},
          "execution_count": 14
        }
      ]
    },
    {
      "cell_type": "code",
      "metadata": {
        "id": "KQFf-leCIqud",
        "colab": {
          "base_uri": "https://localhost:8080/"
        },
        "outputId": "a85444f1-a952-476b-e736-0bfe3254cd19"
      },
      "source": [
        "df.is_trans.value_counts()"
      ],
      "execution_count": null,
      "outputs": [
        {
          "output_type": "execute_result",
          "data": {
            "text/plain": [
              "f    107\n",
              "t     28\n",
              "Name: is_trans, dtype: int64"
            ]
          },
          "metadata": {},
          "execution_count": 15
        }
      ]
    },
    {
      "cell_type": "markdown",
      "metadata": {
        "id": "TMqdhUYcusfy"
      },
      "source": [
        "**Challenge**: Change this into an h3 section heading:\n",
        " ###I have a Understanding LEGO Themes vs. LEGO Sets"
      ]
    },
    {
      "cell_type": "markdown",
      "metadata": {
        "id": "y0kxCh63uwOv"
      },
      "source": [
        "Walk into a LEGO store and you will see their products organised by theme. Their themes include Star Wars, Batman, Harry Potter and many more.\n",
        "\n",
        "**Challenge**: Display this image: https://i.imgur.com/aKcwkSx.png\n",
        "<img src=\"https://i.imgur.com/aKcwkSx.png\">"
      ]
    },
    {
      "cell_type": "markdown",
      "metadata": {
        "dc": {
          "key": "c9d0e58653"
        },
        "run_control": {
          "frozen": true
        },
        "tags": [
          "context"
        ],
        "id": "u_xkZUF8Iqug"
      },
      "source": [
        "A lego set is a particular box of LEGO or product. Therefore, a single theme typically has many different sets.\n",
        "\n",
        "**Challenge**: Display this image https://i.imgur.com/whB1olq.png\n",
        "<img src=\"https://i.imgur.com/whB1olq.png\">"
      ]
    },
    {
      "cell_type": "markdown",
      "metadata": {
        "id": "jJTAROe5unkx"
      },
      "source": [
        "The <code>sets.csv</code> data contains a list of sets over the years and the number of parts that each of these sets contained.\n",
        "\n",
        "**Challenge**: Read the sets.csv data and take a look at the first and last couple of rows."
      ]
    },
    {
      "cell_type": "code",
      "metadata": {
        "id": "vGMOv-NRIquh"
      },
      "source": [
        "sets = pd.read_csv(\"sample_data/data/sets.csv\")"
      ],
      "execution_count": null,
      "outputs": []
    },
    {
      "cell_type": "code",
      "metadata": {
        "id": "T3lLFvyZIqui",
        "colab": {
          "base_uri": "https://localhost:8080/",
          "height": 206
        },
        "outputId": "e2a7500e-d18b-46ef-e145-732023624df9"
      },
      "source": [
        "sets.head()"
      ],
      "execution_count": null,
      "outputs": [
        {
          "output_type": "execute_result",
          "data": {
            "text/plain": [
              "  set_num                        name  year  theme_id  num_parts\n",
              "0   001-1                       Gears  1965         1         43\n",
              "1  0011-2           Town Mini-Figures  1978        84         12\n",
              "2  0011-3  Castle 2 for 1 Bonus Offer  1987       199          0\n",
              "3  0012-1          Space Mini-Figures  1979       143         12\n",
              "4  0013-1          Space Mini-Figures  1979       143         12"
            ],
            "text/html": [
              "\n",
              "  <div id=\"df-1ad4b9d1-3b6e-4447-a0b0-62428c12e541\" class=\"colab-df-container\">\n",
              "    <div>\n",
              "<style scoped>\n",
              "    .dataframe tbody tr th:only-of-type {\n",
              "        vertical-align: middle;\n",
              "    }\n",
              "\n",
              "    .dataframe tbody tr th {\n",
              "        vertical-align: top;\n",
              "    }\n",
              "\n",
              "    .dataframe thead th {\n",
              "        text-align: right;\n",
              "    }\n",
              "</style>\n",
              "<table border=\"1\" class=\"dataframe\">\n",
              "  <thead>\n",
              "    <tr style=\"text-align: right;\">\n",
              "      <th></th>\n",
              "      <th>set_num</th>\n",
              "      <th>name</th>\n",
              "      <th>year</th>\n",
              "      <th>theme_id</th>\n",
              "      <th>num_parts</th>\n",
              "    </tr>\n",
              "  </thead>\n",
              "  <tbody>\n",
              "    <tr>\n",
              "      <th>0</th>\n",
              "      <td>001-1</td>\n",
              "      <td>Gears</td>\n",
              "      <td>1965</td>\n",
              "      <td>1</td>\n",
              "      <td>43</td>\n",
              "    </tr>\n",
              "    <tr>\n",
              "      <th>1</th>\n",
              "      <td>0011-2</td>\n",
              "      <td>Town Mini-Figures</td>\n",
              "      <td>1978</td>\n",
              "      <td>84</td>\n",
              "      <td>12</td>\n",
              "    </tr>\n",
              "    <tr>\n",
              "      <th>2</th>\n",
              "      <td>0011-3</td>\n",
              "      <td>Castle 2 for 1 Bonus Offer</td>\n",
              "      <td>1987</td>\n",
              "      <td>199</td>\n",
              "      <td>0</td>\n",
              "    </tr>\n",
              "    <tr>\n",
              "      <th>3</th>\n",
              "      <td>0012-1</td>\n",
              "      <td>Space Mini-Figures</td>\n",
              "      <td>1979</td>\n",
              "      <td>143</td>\n",
              "      <td>12</td>\n",
              "    </tr>\n",
              "    <tr>\n",
              "      <th>4</th>\n",
              "      <td>0013-1</td>\n",
              "      <td>Space Mini-Figures</td>\n",
              "      <td>1979</td>\n",
              "      <td>143</td>\n",
              "      <td>12</td>\n",
              "    </tr>\n",
              "  </tbody>\n",
              "</table>\n",
              "</div>\n",
              "    <div class=\"colab-df-buttons\">\n",
              "\n",
              "  <div class=\"colab-df-container\">\n",
              "    <button class=\"colab-df-convert\" onclick=\"convertToInteractive('df-1ad4b9d1-3b6e-4447-a0b0-62428c12e541')\"\n",
              "            title=\"Convert this dataframe to an interactive table.\"\n",
              "            style=\"display:none;\">\n",
              "\n",
              "  <svg xmlns=\"http://www.w3.org/2000/svg\" height=\"24px\" viewBox=\"0 -960 960 960\">\n",
              "    <path d=\"M120-120v-720h720v720H120Zm60-500h600v-160H180v160Zm220 220h160v-160H400v160Zm0 220h160v-160H400v160ZM180-400h160v-160H180v160Zm440 0h160v-160H620v160ZM180-180h160v-160H180v160Zm440 0h160v-160H620v160Z\"/>\n",
              "  </svg>\n",
              "    </button>\n",
              "\n",
              "  <style>\n",
              "    .colab-df-container {\n",
              "      display:flex;\n",
              "      gap: 12px;\n",
              "    }\n",
              "\n",
              "    .colab-df-convert {\n",
              "      background-color: #E8F0FE;\n",
              "      border: none;\n",
              "      border-radius: 50%;\n",
              "      cursor: pointer;\n",
              "      display: none;\n",
              "      fill: #1967D2;\n",
              "      height: 32px;\n",
              "      padding: 0 0 0 0;\n",
              "      width: 32px;\n",
              "    }\n",
              "\n",
              "    .colab-df-convert:hover {\n",
              "      background-color: #E2EBFA;\n",
              "      box-shadow: 0px 1px 2px rgba(60, 64, 67, 0.3), 0px 1px 3px 1px rgba(60, 64, 67, 0.15);\n",
              "      fill: #174EA6;\n",
              "    }\n",
              "\n",
              "    .colab-df-buttons div {\n",
              "      margin-bottom: 4px;\n",
              "    }\n",
              "\n",
              "    [theme=dark] .colab-df-convert {\n",
              "      background-color: #3B4455;\n",
              "      fill: #D2E3FC;\n",
              "    }\n",
              "\n",
              "    [theme=dark] .colab-df-convert:hover {\n",
              "      background-color: #434B5C;\n",
              "      box-shadow: 0px 1px 3px 1px rgba(0, 0, 0, 0.15);\n",
              "      filter: drop-shadow(0px 1px 2px rgba(0, 0, 0, 0.3));\n",
              "      fill: #FFFFFF;\n",
              "    }\n",
              "  </style>\n",
              "\n",
              "    <script>\n",
              "      const buttonEl =\n",
              "        document.querySelector('#df-1ad4b9d1-3b6e-4447-a0b0-62428c12e541 button.colab-df-convert');\n",
              "      buttonEl.style.display =\n",
              "        google.colab.kernel.accessAllowed ? 'block' : 'none';\n",
              "\n",
              "      async function convertToInteractive(key) {\n",
              "        const element = document.querySelector('#df-1ad4b9d1-3b6e-4447-a0b0-62428c12e541');\n",
              "        const dataTable =\n",
              "          await google.colab.kernel.invokeFunction('convertToInteractive',\n",
              "                                                    [key], {});\n",
              "        if (!dataTable) return;\n",
              "\n",
              "        const docLinkHtml = 'Like what you see? Visit the ' +\n",
              "          '<a target=\"_blank\" href=https://colab.research.google.com/notebooks/data_table.ipynb>data table notebook</a>'\n",
              "          + ' to learn more about interactive tables.';\n",
              "        element.innerHTML = '';\n",
              "        dataTable['output_type'] = 'display_data';\n",
              "        await google.colab.output.renderOutput(dataTable, element);\n",
              "        const docLink = document.createElement('div');\n",
              "        docLink.innerHTML = docLinkHtml;\n",
              "        element.appendChild(docLink);\n",
              "      }\n",
              "    </script>\n",
              "  </div>\n",
              "\n",
              "\n",
              "<div id=\"df-582a11dc-f2b5-473a-9de8-a9d2470505cd\">\n",
              "  <button class=\"colab-df-quickchart\" onclick=\"quickchart('df-582a11dc-f2b5-473a-9de8-a9d2470505cd')\"\n",
              "            title=\"Suggest charts.\"\n",
              "            style=\"display:none;\">\n",
              "\n",
              "<svg xmlns=\"http://www.w3.org/2000/svg\" height=\"24px\"viewBox=\"0 0 24 24\"\n",
              "     width=\"24px\">\n",
              "    <g>\n",
              "        <path d=\"M19 3H5c-1.1 0-2 .9-2 2v14c0 1.1.9 2 2 2h14c1.1 0 2-.9 2-2V5c0-1.1-.9-2-2-2zM9 17H7v-7h2v7zm4 0h-2V7h2v10zm4 0h-2v-4h2v4z\"/>\n",
              "    </g>\n",
              "</svg>\n",
              "  </button>\n",
              "\n",
              "<style>\n",
              "  .colab-df-quickchart {\n",
              "    background-color: #E8F0FE;\n",
              "    border: none;\n",
              "    border-radius: 50%;\n",
              "    cursor: pointer;\n",
              "    display: none;\n",
              "    fill: #1967D2;\n",
              "    height: 32px;\n",
              "    padding: 0 0 0 0;\n",
              "    width: 32px;\n",
              "  }\n",
              "\n",
              "  .colab-df-quickchart:hover {\n",
              "    background-color: #E2EBFA;\n",
              "    box-shadow: 0px 1px 2px rgba(60, 64, 67, 0.3), 0px 1px 3px 1px rgba(60, 64, 67, 0.15);\n",
              "    fill: #174EA6;\n",
              "  }\n",
              "\n",
              "  [theme=dark] .colab-df-quickchart {\n",
              "    background-color: #3B4455;\n",
              "    fill: #D2E3FC;\n",
              "  }\n",
              "\n",
              "  [theme=dark] .colab-df-quickchart:hover {\n",
              "    background-color: #434B5C;\n",
              "    box-shadow: 0px 1px 3px 1px rgba(0, 0, 0, 0.15);\n",
              "    filter: drop-shadow(0px 1px 2px rgba(0, 0, 0, 0.3));\n",
              "    fill: #FFFFFF;\n",
              "  }\n",
              "</style>\n",
              "\n",
              "  <script>\n",
              "    async function quickchart(key) {\n",
              "      const charts = await google.colab.kernel.invokeFunction(\n",
              "          'suggestCharts', [key], {});\n",
              "    }\n",
              "    (() => {\n",
              "      let quickchartButtonEl =\n",
              "        document.querySelector('#df-582a11dc-f2b5-473a-9de8-a9d2470505cd button');\n",
              "      quickchartButtonEl.style.display =\n",
              "        google.colab.kernel.accessAllowed ? 'block' : 'none';\n",
              "    })();\n",
              "  </script>\n",
              "</div>\n",
              "    </div>\n",
              "  </div>\n"
            ]
          },
          "metadata": {},
          "execution_count": 17
        }
      ]
    },
    {
      "cell_type": "code",
      "metadata": {
        "id": "XprDBmzwIquk",
        "colab": {
          "base_uri": "https://localhost:8080/",
          "height": 206
        },
        "outputId": "e3e4d2c4-7552-4bca-f170-bdb95b058987"
      },
      "source": [
        "sets.tail()"
      ],
      "execution_count": null,
      "outputs": [
        {
          "output_type": "execute_result",
          "data": {
            "text/plain": [
              "           set_num                                 name  year  theme_id  \\\n",
              "15705      wwgp1-1  Wild West Limited Edition Gift Pack  1996       476   \n",
              "15706   XMASTREE-1                       Christmas Tree  2019       410   \n",
              "15707      XWING-1                  Mini X-Wing Fighter  2019       158   \n",
              "15708      XWING-2                    X-Wing Trench Run  2019       158   \n",
              "15709  YODACHRON-1      Yoda Chronicles Promotional Set  2013       158   \n",
              "\n",
              "       num_parts  \n",
              "15705          0  \n",
              "15706         26  \n",
              "15707         60  \n",
              "15708         52  \n",
              "15709        413  "
            ],
            "text/html": [
              "\n",
              "  <div id=\"df-97e6de46-a384-42e5-9f62-f90ae219f535\" class=\"colab-df-container\">\n",
              "    <div>\n",
              "<style scoped>\n",
              "    .dataframe tbody tr th:only-of-type {\n",
              "        vertical-align: middle;\n",
              "    }\n",
              "\n",
              "    .dataframe tbody tr th {\n",
              "        vertical-align: top;\n",
              "    }\n",
              "\n",
              "    .dataframe thead th {\n",
              "        text-align: right;\n",
              "    }\n",
              "</style>\n",
              "<table border=\"1\" class=\"dataframe\">\n",
              "  <thead>\n",
              "    <tr style=\"text-align: right;\">\n",
              "      <th></th>\n",
              "      <th>set_num</th>\n",
              "      <th>name</th>\n",
              "      <th>year</th>\n",
              "      <th>theme_id</th>\n",
              "      <th>num_parts</th>\n",
              "    </tr>\n",
              "  </thead>\n",
              "  <tbody>\n",
              "    <tr>\n",
              "      <th>15705</th>\n",
              "      <td>wwgp1-1</td>\n",
              "      <td>Wild West Limited Edition Gift Pack</td>\n",
              "      <td>1996</td>\n",
              "      <td>476</td>\n",
              "      <td>0</td>\n",
              "    </tr>\n",
              "    <tr>\n",
              "      <th>15706</th>\n",
              "      <td>XMASTREE-1</td>\n",
              "      <td>Christmas Tree</td>\n",
              "      <td>2019</td>\n",
              "      <td>410</td>\n",
              "      <td>26</td>\n",
              "    </tr>\n",
              "    <tr>\n",
              "      <th>15707</th>\n",
              "      <td>XWING-1</td>\n",
              "      <td>Mini X-Wing Fighter</td>\n",
              "      <td>2019</td>\n",
              "      <td>158</td>\n",
              "      <td>60</td>\n",
              "    </tr>\n",
              "    <tr>\n",
              "      <th>15708</th>\n",
              "      <td>XWING-2</td>\n",
              "      <td>X-Wing Trench Run</td>\n",
              "      <td>2019</td>\n",
              "      <td>158</td>\n",
              "      <td>52</td>\n",
              "    </tr>\n",
              "    <tr>\n",
              "      <th>15709</th>\n",
              "      <td>YODACHRON-1</td>\n",
              "      <td>Yoda Chronicles Promotional Set</td>\n",
              "      <td>2013</td>\n",
              "      <td>158</td>\n",
              "      <td>413</td>\n",
              "    </tr>\n",
              "  </tbody>\n",
              "</table>\n",
              "</div>\n",
              "    <div class=\"colab-df-buttons\">\n",
              "\n",
              "  <div class=\"colab-df-container\">\n",
              "    <button class=\"colab-df-convert\" onclick=\"convertToInteractive('df-97e6de46-a384-42e5-9f62-f90ae219f535')\"\n",
              "            title=\"Convert this dataframe to an interactive table.\"\n",
              "            style=\"display:none;\">\n",
              "\n",
              "  <svg xmlns=\"http://www.w3.org/2000/svg\" height=\"24px\" viewBox=\"0 -960 960 960\">\n",
              "    <path d=\"M120-120v-720h720v720H120Zm60-500h600v-160H180v160Zm220 220h160v-160H400v160Zm0 220h160v-160H400v160ZM180-400h160v-160H180v160Zm440 0h160v-160H620v160ZM180-180h160v-160H180v160Zm440 0h160v-160H620v160Z\"/>\n",
              "  </svg>\n",
              "    </button>\n",
              "\n",
              "  <style>\n",
              "    .colab-df-container {\n",
              "      display:flex;\n",
              "      gap: 12px;\n",
              "    }\n",
              "\n",
              "    .colab-df-convert {\n",
              "      background-color: #E8F0FE;\n",
              "      border: none;\n",
              "      border-radius: 50%;\n",
              "      cursor: pointer;\n",
              "      display: none;\n",
              "      fill: #1967D2;\n",
              "      height: 32px;\n",
              "      padding: 0 0 0 0;\n",
              "      width: 32px;\n",
              "    }\n",
              "\n",
              "    .colab-df-convert:hover {\n",
              "      background-color: #E2EBFA;\n",
              "      box-shadow: 0px 1px 2px rgba(60, 64, 67, 0.3), 0px 1px 3px 1px rgba(60, 64, 67, 0.15);\n",
              "      fill: #174EA6;\n",
              "    }\n",
              "\n",
              "    .colab-df-buttons div {\n",
              "      margin-bottom: 4px;\n",
              "    }\n",
              "\n",
              "    [theme=dark] .colab-df-convert {\n",
              "      background-color: #3B4455;\n",
              "      fill: #D2E3FC;\n",
              "    }\n",
              "\n",
              "    [theme=dark] .colab-df-convert:hover {\n",
              "      background-color: #434B5C;\n",
              "      box-shadow: 0px 1px 3px 1px rgba(0, 0, 0, 0.15);\n",
              "      filter: drop-shadow(0px 1px 2px rgba(0, 0, 0, 0.3));\n",
              "      fill: #FFFFFF;\n",
              "    }\n",
              "  </style>\n",
              "\n",
              "    <script>\n",
              "      const buttonEl =\n",
              "        document.querySelector('#df-97e6de46-a384-42e5-9f62-f90ae219f535 button.colab-df-convert');\n",
              "      buttonEl.style.display =\n",
              "        google.colab.kernel.accessAllowed ? 'block' : 'none';\n",
              "\n",
              "      async function convertToInteractive(key) {\n",
              "        const element = document.querySelector('#df-97e6de46-a384-42e5-9f62-f90ae219f535');\n",
              "        const dataTable =\n",
              "          await google.colab.kernel.invokeFunction('convertToInteractive',\n",
              "                                                    [key], {});\n",
              "        if (!dataTable) return;\n",
              "\n",
              "        const docLinkHtml = 'Like what you see? Visit the ' +\n",
              "          '<a target=\"_blank\" href=https://colab.research.google.com/notebooks/data_table.ipynb>data table notebook</a>'\n",
              "          + ' to learn more about interactive tables.';\n",
              "        element.innerHTML = '';\n",
              "        dataTable['output_type'] = 'display_data';\n",
              "        await google.colab.output.renderOutput(dataTable, element);\n",
              "        const docLink = document.createElement('div');\n",
              "        docLink.innerHTML = docLinkHtml;\n",
              "        element.appendChild(docLink);\n",
              "      }\n",
              "    </script>\n",
              "  </div>\n",
              "\n",
              "\n",
              "<div id=\"df-4e520b74-4e89-41e0-8ffb-235a07daa3f4\">\n",
              "  <button class=\"colab-df-quickchart\" onclick=\"quickchart('df-4e520b74-4e89-41e0-8ffb-235a07daa3f4')\"\n",
              "            title=\"Suggest charts.\"\n",
              "            style=\"display:none;\">\n",
              "\n",
              "<svg xmlns=\"http://www.w3.org/2000/svg\" height=\"24px\"viewBox=\"0 0 24 24\"\n",
              "     width=\"24px\">\n",
              "    <g>\n",
              "        <path d=\"M19 3H5c-1.1 0-2 .9-2 2v14c0 1.1.9 2 2 2h14c1.1 0 2-.9 2-2V5c0-1.1-.9-2-2-2zM9 17H7v-7h2v7zm4 0h-2V7h2v10zm4 0h-2v-4h2v4z\"/>\n",
              "    </g>\n",
              "</svg>\n",
              "  </button>\n",
              "\n",
              "<style>\n",
              "  .colab-df-quickchart {\n",
              "    background-color: #E8F0FE;\n",
              "    border: none;\n",
              "    border-radius: 50%;\n",
              "    cursor: pointer;\n",
              "    display: none;\n",
              "    fill: #1967D2;\n",
              "    height: 32px;\n",
              "    padding: 0 0 0 0;\n",
              "    width: 32px;\n",
              "  }\n",
              "\n",
              "  .colab-df-quickchart:hover {\n",
              "    background-color: #E2EBFA;\n",
              "    box-shadow: 0px 1px 2px rgba(60, 64, 67, 0.3), 0px 1px 3px 1px rgba(60, 64, 67, 0.15);\n",
              "    fill: #174EA6;\n",
              "  }\n",
              "\n",
              "  [theme=dark] .colab-df-quickchart {\n",
              "    background-color: #3B4455;\n",
              "    fill: #D2E3FC;\n",
              "  }\n",
              "\n",
              "  [theme=dark] .colab-df-quickchart:hover {\n",
              "    background-color: #434B5C;\n",
              "    box-shadow: 0px 1px 3px 1px rgba(0, 0, 0, 0.15);\n",
              "    filter: drop-shadow(0px 1px 2px rgba(0, 0, 0, 0.3));\n",
              "    fill: #FFFFFF;\n",
              "  }\n",
              "</style>\n",
              "\n",
              "  <script>\n",
              "    async function quickchart(key) {\n",
              "      const charts = await google.colab.kernel.invokeFunction(\n",
              "          'suggestCharts', [key], {});\n",
              "    }\n",
              "    (() => {\n",
              "      let quickchartButtonEl =\n",
              "        document.querySelector('#df-4e520b74-4e89-41e0-8ffb-235a07daa3f4 button');\n",
              "      quickchartButtonEl.style.display =\n",
              "        google.colab.kernel.accessAllowed ? 'block' : 'none';\n",
              "    })();\n",
              "  </script>\n",
              "</div>\n",
              "    </div>\n",
              "  </div>\n"
            ]
          },
          "metadata": {},
          "execution_count": 18
        }
      ]
    },
    {
      "cell_type": "markdown",
      "metadata": {
        "id": "ez-UXSMUIqum"
      },
      "source": [
        "**Challenge**: In which year were the first LEGO sets released and what were these sets called?"
      ]
    },
    {
      "cell_type": "code",
      "metadata": {
        "id": "s2aL6qrGIqum",
        "colab": {
          "base_uri": "https://localhost:8080/",
          "height": 206
        },
        "outputId": "e5f02d7e-3827-436b-9337-df7233962398"
      },
      "source": [
        "sets.sort_values(\"year\").head()"
      ],
      "execution_count": null,
      "outputs": [
        {
          "output_type": "execute_result",
          "data": {
            "text/plain": [
              "      set_num                               name  year  theme_id  num_parts\n",
              "9521  700.1-1         Extra-Large Gift Set (ABB)  1949       365        142\n",
              "9534  700.2-1               Large Gift Set (ABB)  1949       365        178\n",
              "9539  700.3-1              Medium Gift Set (ABB)  1949       365        142\n",
              "9544  700.A-1              Small Brick Set (ABB)  1949       371         24\n",
              "9545  700.B-1  Small Doors and Windows Set (ABB)  1949       371         12"
            ],
            "text/html": [
              "\n",
              "  <div id=\"df-f029980e-f758-4542-b785-fb3d900c03bd\" class=\"colab-df-container\">\n",
              "    <div>\n",
              "<style scoped>\n",
              "    .dataframe tbody tr th:only-of-type {\n",
              "        vertical-align: middle;\n",
              "    }\n",
              "\n",
              "    .dataframe tbody tr th {\n",
              "        vertical-align: top;\n",
              "    }\n",
              "\n",
              "    .dataframe thead th {\n",
              "        text-align: right;\n",
              "    }\n",
              "</style>\n",
              "<table border=\"1\" class=\"dataframe\">\n",
              "  <thead>\n",
              "    <tr style=\"text-align: right;\">\n",
              "      <th></th>\n",
              "      <th>set_num</th>\n",
              "      <th>name</th>\n",
              "      <th>year</th>\n",
              "      <th>theme_id</th>\n",
              "      <th>num_parts</th>\n",
              "    </tr>\n",
              "  </thead>\n",
              "  <tbody>\n",
              "    <tr>\n",
              "      <th>9521</th>\n",
              "      <td>700.1-1</td>\n",
              "      <td>Extra-Large Gift Set (ABB)</td>\n",
              "      <td>1949</td>\n",
              "      <td>365</td>\n",
              "      <td>142</td>\n",
              "    </tr>\n",
              "    <tr>\n",
              "      <th>9534</th>\n",
              "      <td>700.2-1</td>\n",
              "      <td>Large Gift Set (ABB)</td>\n",
              "      <td>1949</td>\n",
              "      <td>365</td>\n",
              "      <td>178</td>\n",
              "    </tr>\n",
              "    <tr>\n",
              "      <th>9539</th>\n",
              "      <td>700.3-1</td>\n",
              "      <td>Medium Gift Set (ABB)</td>\n",
              "      <td>1949</td>\n",
              "      <td>365</td>\n",
              "      <td>142</td>\n",
              "    </tr>\n",
              "    <tr>\n",
              "      <th>9544</th>\n",
              "      <td>700.A-1</td>\n",
              "      <td>Small Brick Set (ABB)</td>\n",
              "      <td>1949</td>\n",
              "      <td>371</td>\n",
              "      <td>24</td>\n",
              "    </tr>\n",
              "    <tr>\n",
              "      <th>9545</th>\n",
              "      <td>700.B-1</td>\n",
              "      <td>Small Doors and Windows Set (ABB)</td>\n",
              "      <td>1949</td>\n",
              "      <td>371</td>\n",
              "      <td>12</td>\n",
              "    </tr>\n",
              "  </tbody>\n",
              "</table>\n",
              "</div>\n",
              "    <div class=\"colab-df-buttons\">\n",
              "\n",
              "  <div class=\"colab-df-container\">\n",
              "    <button class=\"colab-df-convert\" onclick=\"convertToInteractive('df-f029980e-f758-4542-b785-fb3d900c03bd')\"\n",
              "            title=\"Convert this dataframe to an interactive table.\"\n",
              "            style=\"display:none;\">\n",
              "\n",
              "  <svg xmlns=\"http://www.w3.org/2000/svg\" height=\"24px\" viewBox=\"0 -960 960 960\">\n",
              "    <path d=\"M120-120v-720h720v720H120Zm60-500h600v-160H180v160Zm220 220h160v-160H400v160Zm0 220h160v-160H400v160ZM180-400h160v-160H180v160Zm440 0h160v-160H620v160ZM180-180h160v-160H180v160Zm440 0h160v-160H620v160Z\"/>\n",
              "  </svg>\n",
              "    </button>\n",
              "\n",
              "  <style>\n",
              "    .colab-df-container {\n",
              "      display:flex;\n",
              "      gap: 12px;\n",
              "    }\n",
              "\n",
              "    .colab-df-convert {\n",
              "      background-color: #E8F0FE;\n",
              "      border: none;\n",
              "      border-radius: 50%;\n",
              "      cursor: pointer;\n",
              "      display: none;\n",
              "      fill: #1967D2;\n",
              "      height: 32px;\n",
              "      padding: 0 0 0 0;\n",
              "      width: 32px;\n",
              "    }\n",
              "\n",
              "    .colab-df-convert:hover {\n",
              "      background-color: #E2EBFA;\n",
              "      box-shadow: 0px 1px 2px rgba(60, 64, 67, 0.3), 0px 1px 3px 1px rgba(60, 64, 67, 0.15);\n",
              "      fill: #174EA6;\n",
              "    }\n",
              "\n",
              "    .colab-df-buttons div {\n",
              "      margin-bottom: 4px;\n",
              "    }\n",
              "\n",
              "    [theme=dark] .colab-df-convert {\n",
              "      background-color: #3B4455;\n",
              "      fill: #D2E3FC;\n",
              "    }\n",
              "\n",
              "    [theme=dark] .colab-df-convert:hover {\n",
              "      background-color: #434B5C;\n",
              "      box-shadow: 0px 1px 3px 1px rgba(0, 0, 0, 0.15);\n",
              "      filter: drop-shadow(0px 1px 2px rgba(0, 0, 0, 0.3));\n",
              "      fill: #FFFFFF;\n",
              "    }\n",
              "  </style>\n",
              "\n",
              "    <script>\n",
              "      const buttonEl =\n",
              "        document.querySelector('#df-f029980e-f758-4542-b785-fb3d900c03bd button.colab-df-convert');\n",
              "      buttonEl.style.display =\n",
              "        google.colab.kernel.accessAllowed ? 'block' : 'none';\n",
              "\n",
              "      async function convertToInteractive(key) {\n",
              "        const element = document.querySelector('#df-f029980e-f758-4542-b785-fb3d900c03bd');\n",
              "        const dataTable =\n",
              "          await google.colab.kernel.invokeFunction('convertToInteractive',\n",
              "                                                    [key], {});\n",
              "        if (!dataTable) return;\n",
              "\n",
              "        const docLinkHtml = 'Like what you see? Visit the ' +\n",
              "          '<a target=\"_blank\" href=https://colab.research.google.com/notebooks/data_table.ipynb>data table notebook</a>'\n",
              "          + ' to learn more about interactive tables.';\n",
              "        element.innerHTML = '';\n",
              "        dataTable['output_type'] = 'display_data';\n",
              "        await google.colab.output.renderOutput(dataTable, element);\n",
              "        const docLink = document.createElement('div');\n",
              "        docLink.innerHTML = docLinkHtml;\n",
              "        element.appendChild(docLink);\n",
              "      }\n",
              "    </script>\n",
              "  </div>\n",
              "\n",
              "\n",
              "<div id=\"df-3931b35f-d867-4483-8c61-e5d8e0995c1a\">\n",
              "  <button class=\"colab-df-quickchart\" onclick=\"quickchart('df-3931b35f-d867-4483-8c61-e5d8e0995c1a')\"\n",
              "            title=\"Suggest charts.\"\n",
              "            style=\"display:none;\">\n",
              "\n",
              "<svg xmlns=\"http://www.w3.org/2000/svg\" height=\"24px\"viewBox=\"0 0 24 24\"\n",
              "     width=\"24px\">\n",
              "    <g>\n",
              "        <path d=\"M19 3H5c-1.1 0-2 .9-2 2v14c0 1.1.9 2 2 2h14c1.1 0 2-.9 2-2V5c0-1.1-.9-2-2-2zM9 17H7v-7h2v7zm4 0h-2V7h2v10zm4 0h-2v-4h2v4z\"/>\n",
              "    </g>\n",
              "</svg>\n",
              "  </button>\n",
              "\n",
              "<style>\n",
              "  .colab-df-quickchart {\n",
              "    background-color: #E8F0FE;\n",
              "    border: none;\n",
              "    border-radius: 50%;\n",
              "    cursor: pointer;\n",
              "    display: none;\n",
              "    fill: #1967D2;\n",
              "    height: 32px;\n",
              "    padding: 0 0 0 0;\n",
              "    width: 32px;\n",
              "  }\n",
              "\n",
              "  .colab-df-quickchart:hover {\n",
              "    background-color: #E2EBFA;\n",
              "    box-shadow: 0px 1px 2px rgba(60, 64, 67, 0.3), 0px 1px 3px 1px rgba(60, 64, 67, 0.15);\n",
              "    fill: #174EA6;\n",
              "  }\n",
              "\n",
              "  [theme=dark] .colab-df-quickchart {\n",
              "    background-color: #3B4455;\n",
              "    fill: #D2E3FC;\n",
              "  }\n",
              "\n",
              "  [theme=dark] .colab-df-quickchart:hover {\n",
              "    background-color: #434B5C;\n",
              "    box-shadow: 0px 1px 3px 1px rgba(0, 0, 0, 0.15);\n",
              "    filter: drop-shadow(0px 1px 2px rgba(0, 0, 0, 0.3));\n",
              "    fill: #FFFFFF;\n",
              "  }\n",
              "</style>\n",
              "\n",
              "  <script>\n",
              "    async function quickchart(key) {\n",
              "      const charts = await google.colab.kernel.invokeFunction(\n",
              "          'suggestCharts', [key], {});\n",
              "    }\n",
              "    (() => {\n",
              "      let quickchartButtonEl =\n",
              "        document.querySelector('#df-3931b35f-d867-4483-8c61-e5d8e0995c1a button');\n",
              "      quickchartButtonEl.style.display =\n",
              "        google.colab.kernel.accessAllowed ? 'block' : 'none';\n",
              "    })();\n",
              "  </script>\n",
              "</div>\n",
              "    </div>\n",
              "  </div>\n"
            ]
          },
          "metadata": {},
          "execution_count": 19
        }
      ]
    },
    {
      "cell_type": "markdown",
      "metadata": {
        "id": "JJoK3M8TBAVU"
      },
      "source": [
        "**Challenge**: How many different sets did LEGO sell in their first year? How many types of LEGO products were on offer in the year the company started?"
      ]
    },
    {
      "cell_type": "code",
      "metadata": {
        "id": "h-Tf1w7IBBg9",
        "colab": {
          "base_uri": "https://localhost:8080/",
          "height": 206
        },
        "outputId": "cdab4c4b-9a2c-467a-b44b-fa984f68fc44"
      },
      "source": [
        "sets[sets[\"year\"] == 1949]"
      ],
      "execution_count": null,
      "outputs": [
        {
          "output_type": "execute_result",
          "data": {
            "text/plain": [
              "      set_num                               name  year  theme_id  num_parts\n",
              "9521  700.1-1         Extra-Large Gift Set (ABB)  1949       365        142\n",
              "9534  700.2-1               Large Gift Set (ABB)  1949       365        178\n",
              "9539  700.3-1              Medium Gift Set (ABB)  1949       365        142\n",
              "9544  700.A-1              Small Brick Set (ABB)  1949       371         24\n",
              "9545  700.B-1  Small Doors and Windows Set (ABB)  1949       371         12"
            ],
            "text/html": [
              "\n",
              "  <div id=\"df-f41cb192-305d-4bc9-b868-20476f0daae4\" class=\"colab-df-container\">\n",
              "    <div>\n",
              "<style scoped>\n",
              "    .dataframe tbody tr th:only-of-type {\n",
              "        vertical-align: middle;\n",
              "    }\n",
              "\n",
              "    .dataframe tbody tr th {\n",
              "        vertical-align: top;\n",
              "    }\n",
              "\n",
              "    .dataframe thead th {\n",
              "        text-align: right;\n",
              "    }\n",
              "</style>\n",
              "<table border=\"1\" class=\"dataframe\">\n",
              "  <thead>\n",
              "    <tr style=\"text-align: right;\">\n",
              "      <th></th>\n",
              "      <th>set_num</th>\n",
              "      <th>name</th>\n",
              "      <th>year</th>\n",
              "      <th>theme_id</th>\n",
              "      <th>num_parts</th>\n",
              "    </tr>\n",
              "  </thead>\n",
              "  <tbody>\n",
              "    <tr>\n",
              "      <th>9521</th>\n",
              "      <td>700.1-1</td>\n",
              "      <td>Extra-Large Gift Set (ABB)</td>\n",
              "      <td>1949</td>\n",
              "      <td>365</td>\n",
              "      <td>142</td>\n",
              "    </tr>\n",
              "    <tr>\n",
              "      <th>9534</th>\n",
              "      <td>700.2-1</td>\n",
              "      <td>Large Gift Set (ABB)</td>\n",
              "      <td>1949</td>\n",
              "      <td>365</td>\n",
              "      <td>178</td>\n",
              "    </tr>\n",
              "    <tr>\n",
              "      <th>9539</th>\n",
              "      <td>700.3-1</td>\n",
              "      <td>Medium Gift Set (ABB)</td>\n",
              "      <td>1949</td>\n",
              "      <td>365</td>\n",
              "      <td>142</td>\n",
              "    </tr>\n",
              "    <tr>\n",
              "      <th>9544</th>\n",
              "      <td>700.A-1</td>\n",
              "      <td>Small Brick Set (ABB)</td>\n",
              "      <td>1949</td>\n",
              "      <td>371</td>\n",
              "      <td>24</td>\n",
              "    </tr>\n",
              "    <tr>\n",
              "      <th>9545</th>\n",
              "      <td>700.B-1</td>\n",
              "      <td>Small Doors and Windows Set (ABB)</td>\n",
              "      <td>1949</td>\n",
              "      <td>371</td>\n",
              "      <td>12</td>\n",
              "    </tr>\n",
              "  </tbody>\n",
              "</table>\n",
              "</div>\n",
              "    <div class=\"colab-df-buttons\">\n",
              "\n",
              "  <div class=\"colab-df-container\">\n",
              "    <button class=\"colab-df-convert\" onclick=\"convertToInteractive('df-f41cb192-305d-4bc9-b868-20476f0daae4')\"\n",
              "            title=\"Convert this dataframe to an interactive table.\"\n",
              "            style=\"display:none;\">\n",
              "\n",
              "  <svg xmlns=\"http://www.w3.org/2000/svg\" height=\"24px\" viewBox=\"0 -960 960 960\">\n",
              "    <path d=\"M120-120v-720h720v720H120Zm60-500h600v-160H180v160Zm220 220h160v-160H400v160Zm0 220h160v-160H400v160ZM180-400h160v-160H180v160Zm440 0h160v-160H620v160ZM180-180h160v-160H180v160Zm440 0h160v-160H620v160Z\"/>\n",
              "  </svg>\n",
              "    </button>\n",
              "\n",
              "  <style>\n",
              "    .colab-df-container {\n",
              "      display:flex;\n",
              "      gap: 12px;\n",
              "    }\n",
              "\n",
              "    .colab-df-convert {\n",
              "      background-color: #E8F0FE;\n",
              "      border: none;\n",
              "      border-radius: 50%;\n",
              "      cursor: pointer;\n",
              "      display: none;\n",
              "      fill: #1967D2;\n",
              "      height: 32px;\n",
              "      padding: 0 0 0 0;\n",
              "      width: 32px;\n",
              "    }\n",
              "\n",
              "    .colab-df-convert:hover {\n",
              "      background-color: #E2EBFA;\n",
              "      box-shadow: 0px 1px 2px rgba(60, 64, 67, 0.3), 0px 1px 3px 1px rgba(60, 64, 67, 0.15);\n",
              "      fill: #174EA6;\n",
              "    }\n",
              "\n",
              "    .colab-df-buttons div {\n",
              "      margin-bottom: 4px;\n",
              "    }\n",
              "\n",
              "    [theme=dark] .colab-df-convert {\n",
              "      background-color: #3B4455;\n",
              "      fill: #D2E3FC;\n",
              "    }\n",
              "\n",
              "    [theme=dark] .colab-df-convert:hover {\n",
              "      background-color: #434B5C;\n",
              "      box-shadow: 0px 1px 3px 1px rgba(0, 0, 0, 0.15);\n",
              "      filter: drop-shadow(0px 1px 2px rgba(0, 0, 0, 0.3));\n",
              "      fill: #FFFFFF;\n",
              "    }\n",
              "  </style>\n",
              "\n",
              "    <script>\n",
              "      const buttonEl =\n",
              "        document.querySelector('#df-f41cb192-305d-4bc9-b868-20476f0daae4 button.colab-df-convert');\n",
              "      buttonEl.style.display =\n",
              "        google.colab.kernel.accessAllowed ? 'block' : 'none';\n",
              "\n",
              "      async function convertToInteractive(key) {\n",
              "        const element = document.querySelector('#df-f41cb192-305d-4bc9-b868-20476f0daae4');\n",
              "        const dataTable =\n",
              "          await google.colab.kernel.invokeFunction('convertToInteractive',\n",
              "                                                    [key], {});\n",
              "        if (!dataTable) return;\n",
              "\n",
              "        const docLinkHtml = 'Like what you see? Visit the ' +\n",
              "          '<a target=\"_blank\" href=https://colab.research.google.com/notebooks/data_table.ipynb>data table notebook</a>'\n",
              "          + ' to learn more about interactive tables.';\n",
              "        element.innerHTML = '';\n",
              "        dataTable['output_type'] = 'display_data';\n",
              "        await google.colab.output.renderOutput(dataTable, element);\n",
              "        const docLink = document.createElement('div');\n",
              "        docLink.innerHTML = docLinkHtml;\n",
              "        element.appendChild(docLink);\n",
              "      }\n",
              "    </script>\n",
              "  </div>\n",
              "\n",
              "\n",
              "<div id=\"df-6f23435a-e487-40fb-9edd-81e0a86c7aba\">\n",
              "  <button class=\"colab-df-quickchart\" onclick=\"quickchart('df-6f23435a-e487-40fb-9edd-81e0a86c7aba')\"\n",
              "            title=\"Suggest charts.\"\n",
              "            style=\"display:none;\">\n",
              "\n",
              "<svg xmlns=\"http://www.w3.org/2000/svg\" height=\"24px\"viewBox=\"0 0 24 24\"\n",
              "     width=\"24px\">\n",
              "    <g>\n",
              "        <path d=\"M19 3H5c-1.1 0-2 .9-2 2v14c0 1.1.9 2 2 2h14c1.1 0 2-.9 2-2V5c0-1.1-.9-2-2-2zM9 17H7v-7h2v7zm4 0h-2V7h2v10zm4 0h-2v-4h2v4z\"/>\n",
              "    </g>\n",
              "</svg>\n",
              "  </button>\n",
              "\n",
              "<style>\n",
              "  .colab-df-quickchart {\n",
              "    background-color: #E8F0FE;\n",
              "    border: none;\n",
              "    border-radius: 50%;\n",
              "    cursor: pointer;\n",
              "    display: none;\n",
              "    fill: #1967D2;\n",
              "    height: 32px;\n",
              "    padding: 0 0 0 0;\n",
              "    width: 32px;\n",
              "  }\n",
              "\n",
              "  .colab-df-quickchart:hover {\n",
              "    background-color: #E2EBFA;\n",
              "    box-shadow: 0px 1px 2px rgba(60, 64, 67, 0.3), 0px 1px 3px 1px rgba(60, 64, 67, 0.15);\n",
              "    fill: #174EA6;\n",
              "  }\n",
              "\n",
              "  [theme=dark] .colab-df-quickchart {\n",
              "    background-color: #3B4455;\n",
              "    fill: #D2E3FC;\n",
              "  }\n",
              "\n",
              "  [theme=dark] .colab-df-quickchart:hover {\n",
              "    background-color: #434B5C;\n",
              "    box-shadow: 0px 1px 3px 1px rgba(0, 0, 0, 0.15);\n",
              "    filter: drop-shadow(0px 1px 2px rgba(0, 0, 0, 0.3));\n",
              "    fill: #FFFFFF;\n",
              "  }\n",
              "</style>\n",
              "\n",
              "  <script>\n",
              "    async function quickchart(key) {\n",
              "      const charts = await google.colab.kernel.invokeFunction(\n",
              "          'suggestCharts', [key], {});\n",
              "    }\n",
              "    (() => {\n",
              "      let quickchartButtonEl =\n",
              "        document.querySelector('#df-6f23435a-e487-40fb-9edd-81e0a86c7aba button');\n",
              "      quickchartButtonEl.style.display =\n",
              "        google.colab.kernel.accessAllowed ? 'block' : 'none';\n",
              "    })();\n",
              "  </script>\n",
              "</div>\n",
              "    </div>\n",
              "  </div>\n"
            ]
          },
          "metadata": {},
          "execution_count": 21
        }
      ]
    },
    {
      "cell_type": "markdown",
      "metadata": {
        "id": "RJMMYQYqIquo"
      },
      "source": [
        "**Challenge**: Find the top 5 LEGO sets with the most number of parts.\n",
        "<img src=\"data:image/jpeg;base64,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\" height=500px>"
      ]
    },
    {
      "cell_type": "code",
      "metadata": {
        "id": "toJvjRuQIqup",
        "colab": {
          "base_uri": "https://localhost:8080/",
          "height": 206
        },
        "outputId": "c0848976-223d-4c1f-d916-8c1e9e32c449"
      },
      "source": [
        "sets.sort_values(\"num_parts\",ascending=False).head()"
      ],
      "execution_count": null,
      "outputs": [
        {
          "output_type": "execute_result",
          "data": {
            "text/plain": [
              "        set_num                           name  year  theme_id  num_parts\n",
              "15004  BIGBOX-1  The Ultimate Battle for Chima  2015       571       9987\n",
              "11183   75192-1          UCS Millennium Falcon  2017       171       7541\n",
              "10551   71043-1                Hogwarts Castle  2018       246       6020\n",
              "295     10256-1                      Taj Mahal  2017       673       5923\n",
              "221     10189-1                      Taj Mahal  2008       673       5922"
            ],
            "text/html": [
              "\n",
              "  <div id=\"df-553f2363-38fa-417e-8ec4-f6a00a243910\" class=\"colab-df-container\">\n",
              "    <div>\n",
              "<style scoped>\n",
              "    .dataframe tbody tr th:only-of-type {\n",
              "        vertical-align: middle;\n",
              "    }\n",
              "\n",
              "    .dataframe tbody tr th {\n",
              "        vertical-align: top;\n",
              "    }\n",
              "\n",
              "    .dataframe thead th {\n",
              "        text-align: right;\n",
              "    }\n",
              "</style>\n",
              "<table border=\"1\" class=\"dataframe\">\n",
              "  <thead>\n",
              "    <tr style=\"text-align: right;\">\n",
              "      <th></th>\n",
              "      <th>set_num</th>\n",
              "      <th>name</th>\n",
              "      <th>year</th>\n",
              "      <th>theme_id</th>\n",
              "      <th>num_parts</th>\n",
              "    </tr>\n",
              "  </thead>\n",
              "  <tbody>\n",
              "    <tr>\n",
              "      <th>15004</th>\n",
              "      <td>BIGBOX-1</td>\n",
              "      <td>The Ultimate Battle for Chima</td>\n",
              "      <td>2015</td>\n",
              "      <td>571</td>\n",
              "      <td>9987</td>\n",
              "    </tr>\n",
              "    <tr>\n",
              "      <th>11183</th>\n",
              "      <td>75192-1</td>\n",
              "      <td>UCS Millennium Falcon</td>\n",
              "      <td>2017</td>\n",
              "      <td>171</td>\n",
              "      <td>7541</td>\n",
              "    </tr>\n",
              "    <tr>\n",
              "      <th>10551</th>\n",
              "      <td>71043-1</td>\n",
              "      <td>Hogwarts Castle</td>\n",
              "      <td>2018</td>\n",
              "      <td>246</td>\n",
              "      <td>6020</td>\n",
              "    </tr>\n",
              "    <tr>\n",
              "      <th>295</th>\n",
              "      <td>10256-1</td>\n",
              "      <td>Taj Mahal</td>\n",
              "      <td>2017</td>\n",
              "      <td>673</td>\n",
              "      <td>5923</td>\n",
              "    </tr>\n",
              "    <tr>\n",
              "      <th>221</th>\n",
              "      <td>10189-1</td>\n",
              "      <td>Taj Mahal</td>\n",
              "      <td>2008</td>\n",
              "      <td>673</td>\n",
              "      <td>5922</td>\n",
              "    </tr>\n",
              "  </tbody>\n",
              "</table>\n",
              "</div>\n",
              "    <div class=\"colab-df-buttons\">\n",
              "\n",
              "  <div class=\"colab-df-container\">\n",
              "    <button class=\"colab-df-convert\" onclick=\"convertToInteractive('df-553f2363-38fa-417e-8ec4-f6a00a243910')\"\n",
              "            title=\"Convert this dataframe to an interactive table.\"\n",
              "            style=\"display:none;\">\n",
              "\n",
              "  <svg xmlns=\"http://www.w3.org/2000/svg\" height=\"24px\" viewBox=\"0 -960 960 960\">\n",
              "    <path d=\"M120-120v-720h720v720H120Zm60-500h600v-160H180v160Zm220 220h160v-160H400v160Zm0 220h160v-160H400v160ZM180-400h160v-160H180v160Zm440 0h160v-160H620v160ZM180-180h160v-160H180v160Zm440 0h160v-160H620v160Z\"/>\n",
              "  </svg>\n",
              "    </button>\n",
              "\n",
              "  <style>\n",
              "    .colab-df-container {\n",
              "      display:flex;\n",
              "      gap: 12px;\n",
              "    }\n",
              "\n",
              "    .colab-df-convert {\n",
              "      background-color: #E8F0FE;\n",
              "      border: none;\n",
              "      border-radius: 50%;\n",
              "      cursor: pointer;\n",
              "      display: none;\n",
              "      fill: #1967D2;\n",
              "      height: 32px;\n",
              "      padding: 0 0 0 0;\n",
              "      width: 32px;\n",
              "    }\n",
              "\n",
              "    .colab-df-convert:hover {\n",
              "      background-color: #E2EBFA;\n",
              "      box-shadow: 0px 1px 2px rgba(60, 64, 67, 0.3), 0px 1px 3px 1px rgba(60, 64, 67, 0.15);\n",
              "      fill: #174EA6;\n",
              "    }\n",
              "\n",
              "    .colab-df-buttons div {\n",
              "      margin-bottom: 4px;\n",
              "    }\n",
              "\n",
              "    [theme=dark] .colab-df-convert {\n",
              "      background-color: #3B4455;\n",
              "      fill: #D2E3FC;\n",
              "    }\n",
              "\n",
              "    [theme=dark] .colab-df-convert:hover {\n",
              "      background-color: #434B5C;\n",
              "      box-shadow: 0px 1px 3px 1px rgba(0, 0, 0, 0.15);\n",
              "      filter: drop-shadow(0px 1px 2px rgba(0, 0, 0, 0.3));\n",
              "      fill: #FFFFFF;\n",
              "    }\n",
              "  </style>\n",
              "\n",
              "    <script>\n",
              "      const buttonEl =\n",
              "        document.querySelector('#df-553f2363-38fa-417e-8ec4-f6a00a243910 button.colab-df-convert');\n",
              "      buttonEl.style.display =\n",
              "        google.colab.kernel.accessAllowed ? 'block' : 'none';\n",
              "\n",
              "      async function convertToInteractive(key) {\n",
              "        const element = document.querySelector('#df-553f2363-38fa-417e-8ec4-f6a00a243910');\n",
              "        const dataTable =\n",
              "          await google.colab.kernel.invokeFunction('convertToInteractive',\n",
              "                                                    [key], {});\n",
              "        if (!dataTable) return;\n",
              "\n",
              "        const docLinkHtml = 'Like what you see? Visit the ' +\n",
              "          '<a target=\"_blank\" href=https://colab.research.google.com/notebooks/data_table.ipynb>data table notebook</a>'\n",
              "          + ' to learn more about interactive tables.';\n",
              "        element.innerHTML = '';\n",
              "        dataTable['output_type'] = 'display_data';\n",
              "        await google.colab.output.renderOutput(dataTable, element);\n",
              "        const docLink = document.createElement('div');\n",
              "        docLink.innerHTML = docLinkHtml;\n",
              "        element.appendChild(docLink);\n",
              "      }\n",
              "    </script>\n",
              "  </div>\n",
              "\n",
              "\n",
              "<div id=\"df-849e8e24-9dff-4267-ab56-6de18c8d07a2\">\n",
              "  <button class=\"colab-df-quickchart\" onclick=\"quickchart('df-849e8e24-9dff-4267-ab56-6de18c8d07a2')\"\n",
              "            title=\"Suggest charts.\"\n",
              "            style=\"display:none;\">\n",
              "\n",
              "<svg xmlns=\"http://www.w3.org/2000/svg\" height=\"24px\"viewBox=\"0 0 24 24\"\n",
              "     width=\"24px\">\n",
              "    <g>\n",
              "        <path d=\"M19 3H5c-1.1 0-2 .9-2 2v14c0 1.1.9 2 2 2h14c1.1 0 2-.9 2-2V5c0-1.1-.9-2-2-2zM9 17H7v-7h2v7zm4 0h-2V7h2v10zm4 0h-2v-4h2v4z\"/>\n",
              "    </g>\n",
              "</svg>\n",
              "  </button>\n",
              "\n",
              "<style>\n",
              "  .colab-df-quickchart {\n",
              "    background-color: #E8F0FE;\n",
              "    border: none;\n",
              "    border-radius: 50%;\n",
              "    cursor: pointer;\n",
              "    display: none;\n",
              "    fill: #1967D2;\n",
              "    height: 32px;\n",
              "    padding: 0 0 0 0;\n",
              "    width: 32px;\n",
              "  }\n",
              "\n",
              "  .colab-df-quickchart:hover {\n",
              "    background-color: #E2EBFA;\n",
              "    box-shadow: 0px 1px 2px rgba(60, 64, 67, 0.3), 0px 1px 3px 1px rgba(60, 64, 67, 0.15);\n",
              "    fill: #174EA6;\n",
              "  }\n",
              "\n",
              "  [theme=dark] .colab-df-quickchart {\n",
              "    background-color: #3B4455;\n",
              "    fill: #D2E3FC;\n",
              "  }\n",
              "\n",
              "  [theme=dark] .colab-df-quickchart:hover {\n",
              "    background-color: #434B5C;\n",
              "    box-shadow: 0px 1px 3px 1px rgba(0, 0, 0, 0.15);\n",
              "    filter: drop-shadow(0px 1px 2px rgba(0, 0, 0, 0.3));\n",
              "    fill: #FFFFFF;\n",
              "  }\n",
              "</style>\n",
              "\n",
              "  <script>\n",
              "    async function quickchart(key) {\n",
              "      const charts = await google.colab.kernel.invokeFunction(\n",
              "          'suggestCharts', [key], {});\n",
              "    }\n",
              "    (() => {\n",
              "      let quickchartButtonEl =\n",
              "        document.querySelector('#df-849e8e24-9dff-4267-ab56-6de18c8d07a2 button');\n",
              "      quickchartButtonEl.style.display =\n",
              "        google.colab.kernel.accessAllowed ? 'block' : 'none';\n",
              "    })();\n",
              "  </script>\n",
              "</div>\n",
              "    </div>\n",
              "  </div>\n"
            ]
          },
          "metadata": {},
          "execution_count": 22
        }
      ]
    },
    {
      "cell_type": "markdown",
      "metadata": {
        "id": "uSyhOzAHIqur"
      },
      "source": [
        "**Challenge**: Use <code>.groupby()</code> and <code>.count()</code> to show the number of LEGO sets released year-on-year. How do the number of sets released in 1955 compare to the number of sets released in 2019?"
      ]
    },
    {
      "cell_type": "code",
      "metadata": {
        "scrolled": true,
        "id": "qjdrktZAIqus",
        "colab": {
          "base_uri": "https://localhost:8080/",
          "height": 455
        },
        "outputId": "e040d2d1-2cf6-4edb-9964-1f528b4f2890"
      },
      "source": [
        "sets_by_year = sets.groupby(\"year\").count()"
      ],
      "execution_count": null,
      "outputs": [
        {
          "output_type": "execute_result",
          "data": {
            "text/plain": [
              "      set_num  name  theme_id  num_parts\n",
              "year                                    \n",
              "1949        5     5         5          5\n",
              "1950        6     6         6          6\n",
              "1953        4     4         4          4\n",
              "1954       14    14        14         14\n",
              "1955       28    28        28         28\n",
              "...       ...   ...       ...        ...\n",
              "2017      786   786       786        786\n",
              "2018      816   816       816        816\n",
              "2019      840   840       840        840\n",
              "2020      674   674       674        674\n",
              "2021        3     3         3          3\n",
              "\n",
              "[71 rows x 4 columns]"
            ],
            "text/html": [
              "\n",
              "  <div id=\"df-8b58e057-f756-46c2-86a3-b1a2a9276212\" class=\"colab-df-container\">\n",
              "    <div>\n",
              "<style scoped>\n",
              "    .dataframe tbody tr th:only-of-type {\n",
              "        vertical-align: middle;\n",
              "    }\n",
              "\n",
              "    .dataframe tbody tr th {\n",
              "        vertical-align: top;\n",
              "    }\n",
              "\n",
              "    .dataframe thead th {\n",
              "        text-align: right;\n",
              "    }\n",
              "</style>\n",
              "<table border=\"1\" class=\"dataframe\">\n",
              "  <thead>\n",
              "    <tr style=\"text-align: right;\">\n",
              "      <th></th>\n",
              "      <th>set_num</th>\n",
              "      <th>name</th>\n",
              "      <th>theme_id</th>\n",
              "      <th>num_parts</th>\n",
              "    </tr>\n",
              "    <tr>\n",
              "      <th>year</th>\n",
              "      <th></th>\n",
              "      <th></th>\n",
              "      <th></th>\n",
              "      <th></th>\n",
              "    </tr>\n",
              "  </thead>\n",
              "  <tbody>\n",
              "    <tr>\n",
              "      <th>1949</th>\n",
              "      <td>5</td>\n",
              "      <td>5</td>\n",
              "      <td>5</td>\n",
              "      <td>5</td>\n",
              "    </tr>\n",
              "    <tr>\n",
              "      <th>1950</th>\n",
              "      <td>6</td>\n",
              "      <td>6</td>\n",
              "      <td>6</td>\n",
              "      <td>6</td>\n",
              "    </tr>\n",
              "    <tr>\n",
              "      <th>1953</th>\n",
              "      <td>4</td>\n",
              "      <td>4</td>\n",
              "      <td>4</td>\n",
              "      <td>4</td>\n",
              "    </tr>\n",
              "    <tr>\n",
              "      <th>1954</th>\n",
              "      <td>14</td>\n",
              "      <td>14</td>\n",
              "      <td>14</td>\n",
              "      <td>14</td>\n",
              "    </tr>\n",
              "    <tr>\n",
              "      <th>1955</th>\n",
              "      <td>28</td>\n",
              "      <td>28</td>\n",
              "      <td>28</td>\n",
              "      <td>28</td>\n",
              "    </tr>\n",
              "    <tr>\n",
              "      <th>...</th>\n",
              "      <td>...</td>\n",
              "      <td>...</td>\n",
              "      <td>...</td>\n",
              "      <td>...</td>\n",
              "    </tr>\n",
              "    <tr>\n",
              "      <th>2017</th>\n",
              "      <td>786</td>\n",
              "      <td>786</td>\n",
              "      <td>786</td>\n",
              "      <td>786</td>\n",
              "    </tr>\n",
              "    <tr>\n",
              "      <th>2018</th>\n",
              "      <td>816</td>\n",
              "      <td>816</td>\n",
              "      <td>816</td>\n",
              "      <td>816</td>\n",
              "    </tr>\n",
              "    <tr>\n",
              "      <th>2019</th>\n",
              "      <td>840</td>\n",
              "      <td>840</td>\n",
              "      <td>840</td>\n",
              "      <td>840</td>\n",
              "    </tr>\n",
              "    <tr>\n",
              "      <th>2020</th>\n",
              "      <td>674</td>\n",
              "      <td>674</td>\n",
              "      <td>674</td>\n",
              "      <td>674</td>\n",
              "    </tr>\n",
              "    <tr>\n",
              "      <th>2021</th>\n",
              "      <td>3</td>\n",
              "      <td>3</td>\n",
              "      <td>3</td>\n",
              "      <td>3</td>\n",
              "    </tr>\n",
              "  </tbody>\n",
              "</table>\n",
              "<p>71 rows × 4 columns</p>\n",
              "</div>\n",
              "    <div class=\"colab-df-buttons\">\n",
              "\n",
              "  <div class=\"colab-df-container\">\n",
              "    <button class=\"colab-df-convert\" onclick=\"convertToInteractive('df-8b58e057-f756-46c2-86a3-b1a2a9276212')\"\n",
              "            title=\"Convert this dataframe to an interactive table.\"\n",
              "            style=\"display:none;\">\n",
              "\n",
              "  <svg xmlns=\"http://www.w3.org/2000/svg\" height=\"24px\" viewBox=\"0 -960 960 960\">\n",
              "    <path d=\"M120-120v-720h720v720H120Zm60-500h600v-160H180v160Zm220 220h160v-160H400v160Zm0 220h160v-160H400v160ZM180-400h160v-160H180v160Zm440 0h160v-160H620v160ZM180-180h160v-160H180v160Zm440 0h160v-160H620v160Z\"/>\n",
              "  </svg>\n",
              "    </button>\n",
              "\n",
              "  <style>\n",
              "    .colab-df-container {\n",
              "      display:flex;\n",
              "      gap: 12px;\n",
              "    }\n",
              "\n",
              "    .colab-df-convert {\n",
              "      background-color: #E8F0FE;\n",
              "      border: none;\n",
              "      border-radius: 50%;\n",
              "      cursor: pointer;\n",
              "      display: none;\n",
              "      fill: #1967D2;\n",
              "      height: 32px;\n",
              "      padding: 0 0 0 0;\n",
              "      width: 32px;\n",
              "    }\n",
              "\n",
              "    .colab-df-convert:hover {\n",
              "      background-color: #E2EBFA;\n",
              "      box-shadow: 0px 1px 2px rgba(60, 64, 67, 0.3), 0px 1px 3px 1px rgba(60, 64, 67, 0.15);\n",
              "      fill: #174EA6;\n",
              "    }\n",
              "\n",
              "    .colab-df-buttons div {\n",
              "      margin-bottom: 4px;\n",
              "    }\n",
              "\n",
              "    [theme=dark] .colab-df-convert {\n",
              "      background-color: #3B4455;\n",
              "      fill: #D2E3FC;\n",
              "    }\n",
              "\n",
              "    [theme=dark] .colab-df-convert:hover {\n",
              "      background-color: #434B5C;\n",
              "      box-shadow: 0px 1px 3px 1px rgba(0, 0, 0, 0.15);\n",
              "      filter: drop-shadow(0px 1px 2px rgba(0, 0, 0, 0.3));\n",
              "      fill: #FFFFFF;\n",
              "    }\n",
              "  </style>\n",
              "\n",
              "    <script>\n",
              "      const buttonEl =\n",
              "        document.querySelector('#df-8b58e057-f756-46c2-86a3-b1a2a9276212 button.colab-df-convert');\n",
              "      buttonEl.style.display =\n",
              "        google.colab.kernel.accessAllowed ? 'block' : 'none';\n",
              "\n",
              "      async function convertToInteractive(key) {\n",
              "        const element = document.querySelector('#df-8b58e057-f756-46c2-86a3-b1a2a9276212');\n",
              "        const dataTable =\n",
              "          await google.colab.kernel.invokeFunction('convertToInteractive',\n",
              "                                                    [key], {});\n",
              "        if (!dataTable) return;\n",
              "\n",
              "        const docLinkHtml = 'Like what you see? Visit the ' +\n",
              "          '<a target=\"_blank\" href=https://colab.research.google.com/notebooks/data_table.ipynb>data table notebook</a>'\n",
              "          + ' to learn more about interactive tables.';\n",
              "        element.innerHTML = '';\n",
              "        dataTable['output_type'] = 'display_data';\n",
              "        await google.colab.output.renderOutput(dataTable, element);\n",
              "        const docLink = document.createElement('div');\n",
              "        docLink.innerHTML = docLinkHtml;\n",
              "        element.appendChild(docLink);\n",
              "      }\n",
              "    </script>\n",
              "  </div>\n",
              "\n",
              "\n",
              "<div id=\"df-b35042ee-0a78-4bb2-bcaa-aecf302b95d4\">\n",
              "  <button class=\"colab-df-quickchart\" onclick=\"quickchart('df-b35042ee-0a78-4bb2-bcaa-aecf302b95d4')\"\n",
              "            title=\"Suggest charts.\"\n",
              "            style=\"display:none;\">\n",
              "\n",
              "<svg xmlns=\"http://www.w3.org/2000/svg\" height=\"24px\"viewBox=\"0 0 24 24\"\n",
              "     width=\"24px\">\n",
              "    <g>\n",
              "        <path d=\"M19 3H5c-1.1 0-2 .9-2 2v14c0 1.1.9 2 2 2h14c1.1 0 2-.9 2-2V5c0-1.1-.9-2-2-2zM9 17H7v-7h2v7zm4 0h-2V7h2v10zm4 0h-2v-4h2v4z\"/>\n",
              "    </g>\n",
              "</svg>\n",
              "  </button>\n",
              "\n",
              "<style>\n",
              "  .colab-df-quickchart {\n",
              "    background-color: #E8F0FE;\n",
              "    border: none;\n",
              "    border-radius: 50%;\n",
              "    cursor: pointer;\n",
              "    display: none;\n",
              "    fill: #1967D2;\n",
              "    height: 32px;\n",
              "    padding: 0 0 0 0;\n",
              "    width: 32px;\n",
              "  }\n",
              "\n",
              "  .colab-df-quickchart:hover {\n",
              "    background-color: #E2EBFA;\n",
              "    box-shadow: 0px 1px 2px rgba(60, 64, 67, 0.3), 0px 1px 3px 1px rgba(60, 64, 67, 0.15);\n",
              "    fill: #174EA6;\n",
              "  }\n",
              "\n",
              "  [theme=dark] .colab-df-quickchart {\n",
              "    background-color: #3B4455;\n",
              "    fill: #D2E3FC;\n",
              "  }\n",
              "\n",
              "  [theme=dark] .colab-df-quickchart:hover {\n",
              "    background-color: #434B5C;\n",
              "    box-shadow: 0px 1px 3px 1px rgba(0, 0, 0, 0.15);\n",
              "    filter: drop-shadow(0px 1px 2px rgba(0, 0, 0, 0.3));\n",
              "    fill: #FFFFFF;\n",
              "  }\n",
              "</style>\n",
              "\n",
              "  <script>\n",
              "    async function quickchart(key) {\n",
              "      const charts = await google.colab.kernel.invokeFunction(\n",
              "          'suggestCharts', [key], {});\n",
              "    }\n",
              "    (() => {\n",
              "      let quickchartButtonEl =\n",
              "        document.querySelector('#df-b35042ee-0a78-4bb2-bcaa-aecf302b95d4 button');\n",
              "      quickchartButtonEl.style.display =\n",
              "        google.colab.kernel.accessAllowed ? 'block' : 'none';\n",
              "    })();\n",
              "  </script>\n",
              "</div>\n",
              "    </div>\n",
              "  </div>\n"
            ]
          },
          "metadata": {},
          "execution_count": 24
        }
      ]
    },
    {
      "cell_type": "code",
      "metadata": {
        "id": "tFInsHOkIqut",
        "colab": {
          "base_uri": "https://localhost:8080/"
        },
        "outputId": "48ddbcb7-cd89-48e3-dc5b-8479a2824eba"
      },
      "source": [
        "sets_by_year = sets.groupby(\"year\").count()\n",
        "sets_by_year[\"set_num\"].head()\n"
      ],
      "execution_count": null,
      "outputs": [
        {
          "output_type": "execute_result",
          "data": {
            "text/plain": [
              "year\n",
              "1949     5\n",
              "1950     6\n",
              "1953     4\n",
              "1954    14\n",
              "1955    28\n",
              "Name: set_num, dtype: int64"
            ]
          },
          "metadata": {},
          "execution_count": 27
        }
      ]
    },
    {
      "cell_type": "code",
      "source": [
        "sets_by_year = sets.groupby(\"year\").count()\n",
        "sets_by_year[\"set_num\"].tail()"
      ],
      "metadata": {
        "colab": {
          "base_uri": "https://localhost:8080/"
        },
        "id": "ZTQKrX5hYRhU",
        "outputId": "df2f55a5-0ae4-40bb-cd1e-96b45ddde722"
      },
      "execution_count": null,
      "outputs": [
        {
          "output_type": "execute_result",
          "data": {
            "text/plain": [
              "year\n",
              "2017    786\n",
              "2018    816\n",
              "2019    840\n",
              "2020    674\n",
              "2021      3\n",
              "Name: set_num, dtype: int64"
            ]
          },
          "metadata": {},
          "execution_count": 28
        }
      ]
    },
    {
      "cell_type": "markdown",
      "metadata": {
        "id": "xJrmIOULIquv"
      },
      "source": [
        "**Challenge**: Show the number of LEGO releases on a line chart using Matplotlib. <br>\n",
        "<br>\n",
        "Note that the .csv file is from late 2020, so to plot the full calendar years, you will have to exclude some data from your chart. Can you use the slicing techniques covered in Day 21 to avoid plotting the last two years? The same syntax will work on Pandas DataFrames."
      ]
    },
    {
      "cell_type": "code",
      "metadata": {
        "id": "Nckj4lSGIquw",
        "colab": {
          "base_uri": "https://localhost:8080/",
          "height": 448
        },
        "outputId": "bce57758-81e1-445c-d3ec-a6c8f919b384"
      },
      "source": [
        "plt.plot(sets_by_year.index, sets_by_year.set_num)"
      ],
      "execution_count": null,
      "outputs": [
        {
          "output_type": "execute_result",
          "data": {
            "text/plain": [
              "[<matplotlib.lines.Line2D at 0x79c926df7190>]"
            ]
          },
          "metadata": {},
          "execution_count": 29
        },
        {
          "output_type": "display_data",
          "data": {
            "text/plain": [
              "<Figure size 640x480 with 1 Axes>"
            ],
            "image/png": "[encoded data removed]"
          },
          "metadata": {}
        }
      ]
    },
    {
      "cell_type": "code",
      "metadata": {
        "id": "_ZqAN-5MIquz",
        "colab": {
          "base_uri": "https://localhost:8080/",
          "height": 448
        },
        "outputId": "2ae6a3f5-2d3f-4bfe-d6ef-981e687f8106"
      },
      "source": [
        "plt.plot(sets_by_year.index[:-2], sets_by_year.set_num[:-2])"
      ],
      "execution_count": null,
      "outputs": [
        {
          "output_type": "execute_result",
          "data": {
            "text/plain": [
              "[<matplotlib.lines.Line2D at 0x79c924851480>]"
            ]
          },
          "metadata": {},
          "execution_count": 32
        },
        {
          "output_type": "display_data",
          "data": {
            "text/plain": [
              "<Figure size 640x480 with 1 Axes>"
            ],
            "image/png": "[encoded data removed]"
          },
          "metadata": {}
        }
      ]
    },
    {
      "cell_type": "markdown",
      "metadata": {
        "id": "xrDeNYYXIqu1"
      },
      "source": [
        "### Aggregate Data with the Python .agg() Function\n",
        "\n",
        "Let's work out the number of different themes shipped by year. This means we have to count the number of unique theme_ids per calendar year."
      ]
    },
    {
      "cell_type": "code",
      "metadata": {
        "dc": {
          "key": "266a3f390c"
        },
        "tags": [
          "sample_code"
        ],
        "id": "qx8pTau4Iqu2"
      },
      "source": [],
      "execution_count": null,
      "outputs": []
    },
    {
      "cell_type": "code",
      "metadata": {
        "id": "BqF1o997Iqu3"
      },
      "source": [],
      "execution_count": null,
      "outputs": []
    },
    {
      "cell_type": "markdown",
      "metadata": {
        "id": "immCqqw1Iqu5"
      },
      "source": [
        "**Challenge**: Plot the number of themes released by year on a line chart. Only include the full calendar years (i.e., exclude 2020 and 2021)."
      ]
    },
    {
      "cell_type": "code",
      "metadata": {
        "id": "r2pamQEkIqu5"
      },
      "source": [],
      "execution_count": null,
      "outputs": []
    },
    {
      "cell_type": "markdown",
      "metadata": {
        "id": "uBbt9-lJIqu7"
      },
      "source": [
        "### Line Charts with Two Seperate Axes"
      ]
    },
    {
      "cell_type": "code",
      "metadata": {
        "id": "j7lQ_amFIqu7"
      },
      "source": [],
      "execution_count": null,
      "outputs": []
    },
    {
      "cell_type": "markdown",
      "metadata": {
        "id": "7BHYaUf-Iqu9"
      },
      "source": [
        "**Challenge**: Use the <code>.groupby()</code> and <code>.agg()</code> function together to figure out the average number of parts per set. How many parts did the average LEGO set released in 1954 compared to say, 2017?"
      ]
    },
    {
      "cell_type": "code",
      "metadata": {
        "id": "W7BcH9vuIqu9"
      },
      "source": [],
      "execution_count": null,
      "outputs": []
    },
    {
      "cell_type": "code",
      "metadata": {
        "id": "fjbb3tZcIqu_"
      },
      "source": [],
      "execution_count": null,
      "outputs": []
    },
    {
      "cell_type": "markdown",
      "metadata": {
        "id": "bAeTe2XqIqvB"
      },
      "source": [
        "### Scatter Plots in Matplotlib"
      ]
    },
    {
      "cell_type": "markdown",
      "metadata": {
        "id": "SAViZ_TYIqvB"
      },
      "source": [
        "**Challenge**: Has the size and complexity of LEGO sets increased over time based on the number of parts? Plot the average number of parts over time using a Matplotlib scatter plot. See if you can use the [scatter plot documentation](https://matplotlib.org/3.1.0/api/_as_gen/matplotlib.pyplot.scatter.html) before I show you the solution. Do you spot a trend in the chart?"
      ]
    },
    {
      "cell_type": "code",
      "metadata": {
        "id": "EQNZ0D7JIqvB"
      },
      "source": [],
      "execution_count": null,
      "outputs": []
    },
    {
      "cell_type": "markdown",
      "metadata": {
        "id": "xK226Ip-IqvE"
      },
      "source": [
        "### Number of Sets per LEGO Theme"
      ]
    },
    {
      "cell_type": "markdown",
      "metadata": {
        "id": "VKHa1FePIqvE"
      },
      "source": [
        "LEGO has licensed many hit franchises from Harry Potter to Marvel Super Heros to many others. But which theme has the largest number of individual sets?"
      ]
    },
    {
      "cell_type": "code",
      "metadata": {
        "id": "hOBcNrC9IqvE"
      },
      "source": [],
      "execution_count": null,
      "outputs": []
    },
    {
      "cell_type": "markdown",
      "metadata": {
        "id": "J-i6JULGIqvG"
      },
      "source": [
        "**Challenge** Use what you know about HTML markup and tags to display the database schema: https://i.imgur.com/Sg4lcjx.png"
      ]
    },
    {
      "cell_type": "markdown",
      "metadata": {
        "id": "27oDwiPHIqvH"
      },
      "source": []
    },
    {
      "cell_type": "markdown",
      "metadata": {
        "id": "J_0iuerKIqvG"
      },
      "source": [
        "### Database Schemas, Foreign Keys and Merging DataFrames\n",
        "\n",
        "The themes.csv file has the actual theme names. The sets .csv has <code>theme_ids</code> which link to the <code>id</code> column in the themes.csv."
      ]
    },
    {
      "cell_type": "markdown",
      "metadata": {
        "id": "cp1tMW6oIqvH"
      },
      "source": [
        "**Challenge**: Explore the themes.csv. How is it structured? Search for the name 'Star Wars'. How many <code>id</code>s correspond to this name in the themes.csv? Now use these <code>id</code>s and find the corresponding the sets in the sets.csv (Hint: you'll need to look for matches in the <code>theme_id</code> column)"
      ]
    },
    {
      "cell_type": "code",
      "metadata": {
        "id": "3uN3wN5sIqvH"
      },
      "source": [],
      "execution_count": null,
      "outputs": []
    },
    {
      "cell_type": "code",
      "metadata": {
        "id": "xAO2XlQGIqvJ"
      },
      "source": [],
      "execution_count": null,
      "outputs": []
    },
    {
      "cell_type": "code",
      "metadata": {
        "id": "xYEDlY-_IqvL"
      },
      "source": [],
      "execution_count": null,
      "outputs": []
    },
    {
      "cell_type": "code",
      "metadata": {
        "scrolled": true,
        "id": "qBhckawNIqvN"
      },
      "source": [],
      "execution_count": null,
      "outputs": []
    },
    {
      "cell_type": "code",
      "metadata": {
        "scrolled": true,
        "id": "aqt07DSTIqvP"
      },
      "source": [],
      "execution_count": null,
      "outputs": []
    },
    {
      "cell_type": "markdown",
      "metadata": {
        "id": "SmTCXWKKIqvQ"
      },
      "source": [
        "### Merging (i.e., Combining) DataFrames based on a Key\n"
      ]
    },
    {
      "cell_type": "code",
      "metadata": {
        "id": "esKQULhcIqvR"
      },
      "source": [],
      "execution_count": null,
      "outputs": []
    },
    {
      "cell_type": "code",
      "metadata": {
        "id": "i0LobgIvIqvT"
      },
      "source": [],
      "execution_count": null,
      "outputs": []
    },
    {
      "cell_type": "code",
      "metadata": {
        "id": "I7UMP7VXIqvU"
      },
      "source": [],
      "execution_count": null,
      "outputs": []
    }
  ]
}